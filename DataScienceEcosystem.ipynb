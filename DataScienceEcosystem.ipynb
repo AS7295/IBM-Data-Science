{
 "cells": [
  {
   "cell_type": "markdown",
   "id": "c396c1ff",
   "metadata": {},
   "source": [
    "# Data Science Tools and Ecosystem"
   ]
  },
  {
   "cell_type": "markdown",
   "id": "b647865a",
   "metadata": {},
   "source": [
    "In this notebook, Data Science Tools and Ecosystem are summarized."
   ]
  },
  {
   "cell_type": "markdown",
   "id": "bf3a2bed",
   "metadata": {},
   "source": [
    "Some of the popular languages that Data Scientists use are:\n",
    "1. Python\n",
    "2. R Language\n",
    "3. SQL \n",
    "4. Java\n",
    "5. Scala"
   ]
  },
  {
   "cell_type": "markdown",
   "id": "5ba39b27",
   "metadata": {},
   "source": [
    "Some of the commonly used libraries used by Data Scientists include:\n",
    "1. Pandas\n",
    "2. Numpy\n",
    "3. Scipy\n",
    "4. Matplotlib\n",
    "5. Seaborn\n",
    "6. Scikit Learn\n",
    "7. Keras\n",
    "8. Tensorflow"
   ]
  },
  {
   "cell_type": "markdown",
   "id": "dfcdf111",
   "metadata": {},
   "source": [
    "| Data Science Tools |\n",
    "|--------------------|\n",
    "| Jupiter Notebook |\n",
    "| Microsoft Excel |\n",
    "| PowerBI |\n",
    "| Tableau |\n",
    "| MySQL |\n",
    "| R Studio |\n",
    "| Postgrase |\n",
    "| MongoDB |"
   ]
  },
  {
   "cell_type": "markdown",
   "id": "2cb8bd82",
   "metadata": {},
   "source": [
    "Below are a few examples of evaluating arithmetic expressions in Python"
   ]
  },
  {
   "cell_type": "code",
   "execution_count": 6,
   "id": "c14c78e3",
   "metadata": {},
   "outputs": [
    {
     "name": "stdout",
     "output_type": "stream",
     "text": [
      "Addition of variable a and variable b equals to 30 .\n",
      "Substruction of variable a from variable b equals to 10 .\n",
      " Multiplication of variable a and b equals to 200 .\n",
      "Division of variable b by  variable a equals to  2.0 .\n"
     ]
    }
   ],
   "source": [
    "a=10\n",
    "b=20\n",
    "\n",
    "# Addition\n",
    "c=a+b\n",
    "print(\"Addition of variable a and variable b equals to\",c,\".\")\n",
    "\n",
    "# Substruction\n",
    "d=b-a\n",
    "print(\"Substruction of variable a from variable b equals to\", d, \".\")\n",
    "\n",
    "# Multiplication\n",
    "e=a*b\n",
    "print(\" Multiplication of variable a and b equals to\", e, \".\")\n",
    "\n",
    "# Division\n",
    "f=b/a\n",
    "print(\"Division of variable b by  variable a equals to \", f, \".\")"
   ]
  },
  {
   "cell_type": "code",
   "execution_count": 7,
   "id": "db891e45",
   "metadata": {},
   "outputs": [
    {
     "data": {
      "text/plain": [
       "17"
      ]
     },
     "execution_count": 7,
     "metadata": {},
     "output_type": "execute_result"
    }
   ],
   "source": [
    "# This a simple arithmetic expression to mutiply then add integers\n",
    "(3*4)+5"
   ]
  },
  {
   "cell_type": "code",
   "execution_count": 9,
   "id": "5fb73115",
   "metadata": {},
   "outputs": [
    {
     "name": "stdout",
     "output_type": "stream",
     "text": [
      "200 minutes= 3.33 hours\n"
     ]
    }
   ],
   "source": [
    "# This will convert 200 minutes to hours by diving by 60\n",
    "a=200\n",
    "b=60\n",
    "print(a,\"minutes=\",round(a/b,2),\"hours\")"
   ]
  },
  {
   "cell_type": "markdown",
   "id": "d28ffde6",
   "metadata": {},
   "source": [
    "**Objectives:**\n",
    "+ Create a Jupyter Notebook\n",
    "+ Insert code and markdown cells\n",
    "+ Share notebook through GitHub"
   ]
  },
  {
   "cell_type": "markdown",
   "id": "7a76b848",
   "metadata": {},
   "source": [
    "## Author\n",
    "ANIMESH SAMANTA"
   ]
  },
  {
   "cell_type": "code",
   "execution_count": null,
   "id": "f18b4ddf",
   "metadata": {},
   "outputs": [],
   "source": []
  }
 ],
 "metadata": {
  "kernelspec": {
   "display_name": "Python 3 (ipykernel)",
   "language": "python",
   "name": "python3"
  },
  "language_info": {
   "codemirror_mode": {
    "name": "ipython",
    "version": 3
   },
   "file_extension": ".py",
   "mimetype": "text/x-python",
   "name": "python",
   "nbconvert_exporter": "python",
   "pygments_lexer": "ipython3",
   "version": "3.9.13"
  }
 },
 "nbformat": 4,
 "nbformat_minor": 5
}
